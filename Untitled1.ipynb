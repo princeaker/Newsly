{
 "cells": [
  {
   "cell_type": "code",
   "execution_count": 3,
   "metadata": {},
   "outputs": [],
   "source": [
    "import lxml\n",
    "import newspaper\n",
    "import mitie"
   ]
  },
  {
   "cell_type": "code",
   "execution_count": 2,
   "metadata": {},
   "outputs": [
    {
     "name": "stderr",
     "output_type": "stream",
     "text": [
      "unable to cache TLDs in file /usr/local/lib/python3.5/dist-packages/tldextract/.tld_set: [Errno 13] Permission denied: '/usr/local/lib/python3.5/dist-packages/tldextract/.tld_set'\n"
     ]
    }
   ],
   "source": [
    "washpost = newspaper.build(\"https://www.washingtonpost.com/\")"
   ]
  },
  {
   "cell_type": "code",
   "execution_count": 8,
   "metadata": {},
   "outputs": [
    {
     "name": "stdout",
     "output_type": "stream",
     "text": [
      "Today's WorldView: Was the Trump-Kim summit a huge success or a colossal failure?\n",
      "‘Not good!’ Trump renews his criticism of OPEC for ‘too high’ oil prices\n",
      "How to pay down your credit card debt\n",
      "Why Mike Pompeo is getting testy with reporters\n",
      "Justice Dept. considered relationship between reporter and source before secretly seeking records\n",
      "Work snacks\n",
      "How did the Minnesota raccoon scale that skyscraper? ‘Superpowers’ and ‘insatiable curiosity.’\n",
      "Terms of Service\n",
      "After 10 years of flunking, Anacostia River passes annual health-check with D rating\n",
      "U-Md. offensive lineman who was hospitalized after team workout has died\n",
      "California ousts an elected judge. Everybody loses.\n",
      "AT&T-Time Warner\n",
      "Scanning immigrants’ old fingerprints, U.S. threatens to strip thousands of citizenship\n",
      "Capital Weather Gang\n",
      "FBI agent\n",
      "Remains found in 1991 identified as those of missing Arlington woman\n",
      " \n",
      "Critic’s Notebook: A party of eight is the max at one of D.C.’s finest restaurants\n",
      "Read the latest from All Opinions Are Local\n",
      "Trump rejects parts of VA law he was ‘very happy’ to sign\n",
      "Winners and Losers: Trump is the big winner in Tuesday’s primaries\n",
      "Billy Preston, somewhat of a basketball mystery, works out for the Wizards\n",
      "If the U.S. doesn’t get the 2026 World Cup, blame Trump\n",
      "Neal Boyd, opera singer who won ‘America’s Got Talent,’ dies at 42\n",
      "The Fed just made life even worse for home buyers\n",
      "Why I let Domino’s fill my city’s potholes\n",
      "A 22-story tower is bringing 250 apartments to Ballston\n",
      "The new comedy ‘Trayf’ at Theater J is Zalmy and Shmuel’s excellent adventure\n",
      "Apple is ending apps’ ability to secretly sell your contacts list\n",
      "None\n",
      "C.M. Newton, Hall of Fame basketball administrator and coach, dies at 88\n",
      "New research shows marathoners have less arthritis than non-runners\n",
      "None\n",
      "Last-ditch efforts revive Gennady Golovkin-Canelo Alvarez rematch for Sept. 15 in Las Vegas\n",
      "'Daderina'\n",
      "Apple says it will disable loophole police often use to crack into iPhones\n",
      "Jefferson’s Monticello finally gives Sally Hemings her place in presidential history\n",
      "Draymond Green\n",
      "The World Cup will show us soccer is more than just thrilling. It’s art.\n",
      "Why Michael Cohen is possibly the biggest threat to Trump\n",
      "For an impulsive, excitable 7-year-old, first get through the school year. Then dig deeper.\n",
      "Musicians sing the praises of a uniquely American instrument: the banjo\n",
      "Carolyn Hax: Coaxing a friend out of her angry place\n",
      "Maria Bueno, Brazilian tennis star who won 3 Wimbledon singles titles, dies at 78\n",
      "Most Capitals say they would visit the White House after winning the Stanley Cup\n",
      "South Korea struggles to digest strange new reality of Kim Jong Un bonding with White House\n",
      "As Md. gubernatorial race tightens, Jealous getting $1 million boost from outside groups\n",
      "At U.S. Open, 19th-century Shinnecock Hills takes on realities of 21st century\n",
      "This classic coffee cake is what good mornings are made of\n",
      "Trump says N. Korea ‘no longer’ a nuclear threat amid questions over summit\n",
      "Privacy Policy\n",
      "Meet the female pro wrestlers of Mexico\n",
      "The culinary diplomacy of the Trump-Kim summit lunch menu\n",
      "Are cartoon characters on lottery scratch-off tickets a way to lure young gamblers?\n",
      "Dorothy Cotton, civil rights leader and confidante to Martin Luther King Jr., dies at 88\n",
      " \n",
      "Scott Pruitt’s abuses of power, ranked\n",
      "Print Products Terms of Sale\n",
      "PM Update: A couple of showers or a storm possible into tonight, then much less humid Thursday\n",
      "None\n",
      "Analysis: If Pruitt won’t resign and Trump won’t fire him, what penalty could he face?\n",
      "Forbes released a list of highest-paid athletes. Where are the women?\n",
      "None\n",
      "Interior had little basis for halting mountaintop removal study, probe finds\n",
      "Pompeo calls questions about gaps in Trump-Kim statement ‘insulting and ridiculous’\n",
      "With quirky food creations, sprawling green parks, a City Museum unlike any other — and, of course, that Arch — St. Louis is a fun place to play.\n",
      "None\n",
      "A historic moment in Singapore: Hannity and Trump disagree on something\n",
      "Federal Reserve bumps up interest rate, signals two more hikes are likely in 2018\n",
      "President Trump and the age of the grumpy old white man\n",
      "#MPRraccoon\n",
      "The D.C. area’s most expensive homes for sale in June\n",
      "How the ATT-Time Warner deal looks to one investor\n",
      "Cooking through tears helped me feed my dying father. It sustained me, too.\n",
      "Aparna Nancherla may have been a shy child, but she’s a comedy star now.\n",
      "Capital Weather Gang declares spring is over as 70-degree weather ends and 90s lurk\n",
      "A child in Idaho was treated for plague — the first human case in the state in 26 years\n",
      "Muslim family\n",
      "Mister Rogers\n",
      "Comcast makes $65 billion offer for 21st Century Fox, setting up bidding war with Disney\n",
      "Why untrue tweets from Trump shouldn’t be unchallenged in headlines\n",
      "Camel milk is full of nutrients and it’s growing in popularity. But how does it taste?\n",
      "At the Texas-Mexico border, her son begged not to be taken. They took him anyway.\n",
      "Where to find women on the big and small screen this summer\n",
      "How you can unsend that Snapchat message you accidentally sent to your ex\n",
      "The new tax law was supposed to cause a slump in housing values. It hasn’t materialized — yet.\n",
      "Albert Einstein\n",
      "Saudi Arabia-led military coalition launches offensive on Yemeni port city of Hodeida \n",
      "Washington celebrates the Capitals first Stanley Cup with victory parade\n",
      "Make room, Mario: Nintendo knows the Switch needs more partnerships like Fortnite\n",
      "RSS Terms of Service\n",
      "A minimum-wage worker can’t afford a 2-bedroom apartment anywhere in the U.S.\n",
      "Stewart wins GOP nod for U.S. Senate in a primary with low turnout\n",
      "At Target and Walmart, Pride is profitable. The Supreme Court ought to drop by.\n",
      "Video: Federal Reserve Chairman Jerome Powell explains why interest rates are being bumped up\n",
      "In the galleries: Roving photographers capture street scenes around the world\n",
      "Police say man opened fire on police before two officers fired back with fatal shots\n",
      "Nearly 60 percent of D.C. seniors graduated on time this month\n",
      "At the U.S. border, asylum seekers fleeing violence are told to come back later\n",
      "Republicans ‘don’t want the tweet that I got’: Mark Sanford says Trump sealed his loss\n",
      "Michael Cohen may be getting ready to flip. That would be a catastrophe for Trump.\n",
      " \n",
      "Pruitt tapped aide, donors to help wife land job at conservative group\n",
      "Corey Stewart’s Senate nomination could reverberate down the ballot\n",
      "Senators concerned that federal courts fall short in handling sexual misconduct\n",
      "None\n",
      "Scammers\n",
      "Trump says North Korea is ‘no longer’ a nuclear threat. The Pentagon budget suggests otherwise.\n",
      "A return to end the season: Eschenbach leads NSO\n",
      "The Fix: The many questions Trump officials don’t want reporters to ask\n",
      "U.S., Mexico and Canada win joint bid for 2026 World Cup, topping Morocco in FIFA vote\n",
      "After a law school shuttered, aspiring lawyers hired real lawyers to sue it\n",
      "Submissions and Discussion Policy\n",
      "Trump’s most offensive statement on North Korea\n",
      " \n",
      "Federal government open Tuesday, but agencies encouraged to grant employees time off to view Capitals parade\n",
      "Trump offers support for House GOP immigration bill, but it may not be enough\n",
      "120 House Democrats hit ‘flawed’ science in Pentagon’s plan limiting transgender people in military\n",
      "Southern Baptists debate handling of a #MeToo case and hear a controversial speech from Pence\n",
      "Ad Choices\n",
      "Kids’ influence looms large over their parents’ home-buying decisions\n",
      "What does the Trump-Kim summit mean? Not a damn thing.\n",
      "Q&A for federal workers: Bigger buyouts may be on the way\n",
      "Digital Products Terms of Sale\n",
      "Five reasons the crisis in Yemen matters\n",
      "Barry Trotz: ‘I do want to be back’ as Capitals’ coach\n",
      " \n",
      "AT&T-Time Warner merger approved, setting the stage for more consolidation across corporate America\n"
     ]
    }
   ],
   "source": [
    "for article in washpost.articles:\n",
    "    print(article.title)"
   ]
  },
  {
   "cell_type": "code",
   "execution_count": 12,
   "metadata": {},
   "outputs": [],
   "source": [
    "article = washpost.articles[0]"
   ]
  },
  {
   "cell_type": "code",
   "execution_count": 13,
   "metadata": {},
   "outputs": [],
   "source": [
    "article.download()\n",
    "article.parse()"
   ]
  },
  {
   "cell_type": "code",
   "execution_count": 14,
   "metadata": {},
   "outputs": [
    {
     "name": "stdout",
     "output_type": "stream",
     "text": [
      "Want smart analysis of the most important news in your inbox every weekday along with other global reads, interesting ideas and opinions to know? Sign up for the Today's WorldView newsletter.\n",
      "\n",
      "It actually happened. President Trump and Kim Jong Un met in Singapore on Monday evening, marking the first time a sitting U.S. leader has met face-to-face with a member of the dynasty that rules North Korea. Though their meeting was brief and the commitments they made vague, there's no doubting that history was made.\n",
      "\n",
      "But will the Trump-Kim summit come to be seen as the dawn of a new, positive era in relations between North Korea and the United States? Or is this just another blip along the road from a president whose crude foreign policy ethos — assuming he has one — was recently summed up by a White House official as, “We're America, bitch”?\n",
      "\n",
      "For now, the summit seems to be a Rorschach test, splitting opinions about its significance and impact along often-predictable lines. Among the Korea-watching crowd, the verdict appears largely negative. Andrei Lankov, a professor at Kookmin University in Seoul and a well-respected expert on North Korea, offered one of the harshest takes: “We expected it would be a flop, but it’s floppier than anything we expected. The [post-summit] declaration is pretty much meaningless.”\n",
      "\n",
      "“This is all going to break down,” Kelly Magsamen of the Center for American Progress said on Twitter. Bruce Klingner, a former CIA analyst who is now the conservative Heritage Foundation's top expert on North Korea, called the lack of new details in the agreement “very disappointing,” a point echoed by a former negotiator with Pyongyang, Robert Gallucci. “Cynicism, or at least skepticism, would not be entirely inappropriate right now,” Gallucci wrote in an article for Korea-news site 38 North.\n",
      "\n",
      "This is very disappointing. Each of the four main points was in previous documents with NK, some in a stronger, more encompassing way. The denuke bullet is weaker than the Six Party Talks language. And no mention of CVID, verification, human rights. — Bruce Klingner (@BruceKlingner) June 12, 2018\n",
      "\n",
      "But there were some glimmers of a more hopeful attitude. Victor Cha, the Georgetown professor who, just a few months ago, lost a potential Trump administration job over the threat of military force against North Korea, offered a kind of grim optimism in the New York Times. “In the case of North Korea, there are never good policy options — there are only choices between the bad and the worse,” Cha wrote, praising Trump's unconventional approach while also acknowledging the pitfalls of the summit.\n",
      "\n",
      "John Delury, one of the most consistent pro-engagement voices in Korea-watching circles, played down the aim of denuclearization in an interview with CNN, focusing instead on Kim's seemingly sunny attitude during the summit. “I think there is another story here, which is Kim Jong Un's readiness to basically normalize North Korea's relations with the U.S. and with the world,” he explained, suggesting that earning Kim's trust is a bigger opportunity than ending his nuclear program. “We need to pay attention to that, too.”\n",
      "\n",
      "Delury's optimism may reflect his location: While many North Korea experts are based in the United States, he is a professor at Seoul's Yonsei University. In South Korea, where President Moon Jae-in played a key role in pushing for the summit, the mood seems to be optimistic.\n",
      "\n",
      "Writing in the New Yorker, E. Tammy Kim said that although Trump is unpopular among South Koreans, the drive for peace with North Korea was widely supported in the country. “I’ve yet to meet a single Korean who isn’t willing to express optimism, in some form, about the prospects for peace and reunification,” Kim wrote. “Nearly everyone uses the same common phrase to express a basic optimism: '잘될 것 같아요'—'I think it’ll work out.'”\n",
      "\n",
      "Of course, Trump's announcement that he will halt U.S.-South Korea “war games” — or rather, military exercises — and his expressed desire to get U.S. troops out of South Korea will cause anxiety among many South Korean conservatives. Some hard-liners have responded angrily, even questioning the nature of the U.S.-South Korea alliance under Trump.\n",
      "\n",
      "Commentator (NK refugee and former diplomat Go Yeong-hwan) on TV Chosun (right-wing news) believes that the summit was a failure, and seems to be questioning the US-ROK alliance.. It begins.. pic.twitter.com/BpUbaLgnDT — Peter Ward, 워드 피터，皮得 (@rpcward89) June 12, 2018\n",
      "\n",
      "But Trump's announcement may not deter liberals such as Moon, who have generally taken a more ambiguous view of the alliance (we'll get a good sense of just how dominant these liberals are, by the way, after local elections on Wednesday — some Korean outlets are expecting a landslide in their favor). Nor will the prospect of major changes to the U.S. presence in South Korea upset North Korea's other neighbors — China and Russia — who had long pushed for a “freeze-for-freeze” deal that would see North Korea stop weapons testing in exchange for a halt to U.S.-South Korea military exercises.\n",
      "\n",
      "As The Washington Post's Emily Rauhala noted, China's foreign ministry was quick to praise the outcome of the summit, which experts argued was largely in line with Beijing's hopes. “China's objectives on the Korean Peninsula have been to maintain stability, encourage North Korea’s denuclearization and reduce U.S. influence,” Abraham Denmark, the director of the Asia program at the Woodrow Wilson International Center for Scholars, said to Rauhala.\n",
      "\n",
      "“Beijing,” he said, “got everything that they wanted.”\n",
      "\n",
      "But the outcome was less positive for Japan's Shinzo Abe, who portrayed himself as a Trump whisperer and bonded with the U.S. president over rounds of golf. Though the Japanese prime minister was no doubt pleased that Trump raised the issue of Japanese abductees with the North Korean leader, he may have been dismayed that Trump did not follow his hard line on Kim.\n",
      "\n",
      "Things can change, of course. Trump has proved himself unpredictable, and there are indications that some things he said may have been inaccurate (questions abound about the whether a “war games” suspension will actually take place). North Korea's record on keeping to its word is pretty shaky, too. Moreover, the statement that Trump and Kim signed was brief, full of recycled ideas and vague promises. Views of it diverge, in large part, because it is just ink on a paper, lacking in any real practical specifics.\n",
      "\n",
      "History was made in Singapore, but it's a rough draft. We'll have to fill in the details — and work out the ending — later.\n",
      "\n",
      "Want smart analysis of the most important news in your inbox every weekday along with other global reads, interesting ideas and opinions to know? Sign up for the Today's WorldView newsletter.\n"
     ]
    }
   ],
   "source": [
    "print(article.text)"
   ]
  },
  {
   "cell_type": "code",
   "execution_count": null,
   "metadata": {},
   "outputs": [],
   "source": []
  }
 ],
 "metadata": {
  "kernelspec": {
   "display_name": "Python 3",
   "language": "python",
   "name": "python3"
  },
  "language_info": {
   "codemirror_mode": {
    "name": "ipython",
    "version": 3
   },
   "file_extension": ".py",
   "mimetype": "text/x-python",
   "name": "python",
   "nbconvert_exporter": "python",
   "pygments_lexer": "ipython3",
   "version": "3.5.2"
  }
 },
 "nbformat": 4,
 "nbformat_minor": 2
}
