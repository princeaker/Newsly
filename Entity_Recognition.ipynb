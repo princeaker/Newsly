{
 "cells": [
  {
   "cell_type": "code",
   "execution_count": 1,
   "metadata": {},
   "outputs": [],
   "source": [
    "import lxml\n",
    "import newspaper\n",
    "import mitie"
   ]
  },
  {
   "cell_type": "code",
   "execution_count": 2,
   "metadata": {},
   "outputs": [],
   "source": [
    "washpost = newspaper.build(\"https://www.washingtonpost.com/\")"
   ]
  },
  {
   "cell_type": "code",
   "execution_count": 3,
   "metadata": {},
   "outputs": [
    {
     "name": "stdout",
     "output_type": "stream",
     "text": [
      "None\n",
      "Frank Harden, longtime D.C. morning radio host, dies at 95\n",
      "Colombians vote in divisive election that could upend peace deal with FARC\n",
      "Giuliani suggests Trump may pardon Manafort after Mueller’s probe\n",
      "How Judge Leon blew it with U.S. v AT&T\n",
      "FBI agent removed from Russia probe for anti-Trump texts says he would testify before Congress\n",
      "If more states start using Ohio’s system, how many voters will be purged?\n",
      "Looking to buy a home for $800,000? Here’s what you can expect to find.\n",
      "Serbia tops Costa Rica, 1-0\n",
      "Happy Father’s Day, Dad. Boy, did you matter.\n",
      "Social Security, HUD act on Trump’s orders in move to emasculate unions\n",
      "A Georgetown rowhouse built when Lincoln was in the White House\n",
      "Terms of Service\n",
      " \n",
      "Tear gas triggers stampede at Venezuela nightclub, resulting in 17 deaths\n",
      "My dad didn’t know how to get fit. I’ll do better for my kids.\n",
      "Meet the Democratic candidates for Montgomery county executive\n",
      "For Pruitt, gaining Trump’s favor — and keeping it — came through fierce allegiance\n",
      "Musicians sing the praises of a uniquely American instrument: the banjo\n",
      "With over 40 years between the birth of my two daughters, I am two different fathers\n",
      "Roger Stone, longtime Trump confidant, met with Russian who offered dirt on Clinton\n",
      "Mexico gives tournament its first real shock with 1-0 victory over Germany\n",
      "The media needs to radically change the way Trump is covered\n",
      "Forecast: Brace for a triple-digit heat index to start the workweek\n",
      "Leslie Grantham, ‘lovable rogue’ on British TV’s ‘EastEnders,’ dies at 71\n",
      "A return to end the season: Eschenbach leads NSO\n",
      "Capital Weather Gang\n",
      "Suspect killed, 22 injured in shooting at New Jersey arts festival, authorities say\n",
      "The fishing is prime at Sushi Nakazawa in D.C.\n",
      "Ronaldo\n",
      "Mohamed Salah ‘fit’ for Egypt’s World Cup match against Russia\n",
      "Saudi women on the front line of change\n",
      "How soon is ‘too soon’ to get engaged?\n",
      "My stomach pain proved to be advanced ovarian cancer, and I didn’t like the odds.\n",
      "Filming Israeli soldiers in action could soon become a crime\n",
      "LaVar Ball’s wife’s quiet recovery\n",
      "Indonesian python\n",
      "Hands off my data! 15 more default privacy settings you should change on your TV, cellphone plan, LinkedIn and more.\n",
      "Books on the Russia scandal focus on the news. What they need is more history.\n",
      "Lily Likes: What we’re using in our homes and daily lives\n",
      "I’m running again for the first time in years. It’s resurfacing old insecurities.\n",
      "The scandal at the EPA? It may be how its press office has handled all the scandals.\n",
      "With tariffs, Trump starts unraveling a quarter-century of U.S.-China economic ties\n",
      "Taliban leaders reject Afghanistan’s proposal to extend ceasefire\n",
      "None\n",
      "Romans 13\n",
      "The new comedy ‘Trayf’ at Theater J is Zalmy and Shmuel’s excellent adventure\n",
      "This security guard discovered the Watergate break-in, but few remember him \n",
      "D.C.’s little-known Navy museum is amazing once you figure out how to get in\n",
      "After a killing, an Israeli soldier and an Arab family confronted justice\n",
      "Mortgage rates charge back, moving toward yearly highs\n",
      "This website is crawling with bug news\n",
      "Kansas shooting\n",
      "‘My opponent likes to praise and encourage white supremacists,’ Kaine tells crowd\n",
      "Read the latest from All Opinions Are Local\n",
      "Why was London’s Grenfell Tower fire so significant?\n",
      "Trump taps budget aide to head Consumer Financial Protection Bureau, seeking to continue push to limit the agency’s reach\n",
      "Artificial concern for people in pain won’t stop suicide. Radical empathy might.\n",
      "Today's other matches: Top contender Brazil faces Switzerland\n",
      " \n",
      "Trump’s attacks on federal employee unions, pay and benefits draw bipartisan rebukes\n",
      "Haunting landscapes taken from thousands of hacked surveillance cameras\n",
      "Submissions and Discussion Policy\n",
      "Stephen Hawking\n",
      "Under pressure from Pence, U.S. aid is directed to Christian, Yazidi communities in Iraq\n",
      "Jalal Mansur Nuriddin, one of the Last Poets and earliest rappers, dies at 74\n",
      "Obvious, and not so obvious, ways to use all four sides of your box grater\n",
      "Following Trump’s order, HUD moves to evict union from agency buildings\n",
      "Carolyn Hax: A woman backs out of a trip, and her friend goes to a dark place\n",
      "Should Congress be allowed to fly for free?\n",
      "Students begin tour to address gun violence, uniting suburban and urban survivors in Chicago\n",
      "Brazil vs. Switzerland 2018 World Cup: Swiss forge a tie at 1 in second half\n",
      "Quantum computing finds its lobbying voice\n",
      "RSS Terms of Service\n",
      "120 House Democrats hit ‘flawed’ science in Pentagon’s plan limiting transgender people in military\n",
      "It’s official: AT&T-Time Warner is a done deal\n",
      "Migrant children\n",
      "Friday night is pizza night. How weekend choices undermine our kids’ healthy eating habits.\n",
      "World Cup fans’ view: Nigerians pack the house with hope\n",
      "Thank you to my many fathers\n",
      "Will we finally end the silence around suicide?\n",
      "How not being a father made George Washington the father of his country\n",
      "None\n",
      "6 stops in Maryland prove pupusas are more than corn and cheese\n",
      "Germany drops probe of rappers after they used Holocaust and Auschwitz in lyrics\n",
      "Drake\n",
      "Comey made was the same error everyone made — assuming he knew who’d win\n",
      "Why I let Domino’s fill my city’s potholes\n",
      "The fitness world’s evolving obsession with perfect glutes\n",
      "Bodies of two missing men found after boat accident in Charles County\n",
      "Border patrol\n",
      " \n",
      "In the galleries: Roving photographers capture street scenes around the world\n",
      "Here are 18 of the week’s best photos\n",
      "Ad Choices\n",
      " \n",
      "Watch a horse and jockey take a terrifying tumble and go on to win the race\n",
      " \n",
      "None\n",
      "Paul Ryan’s cheery Father’s Day message is not playing well amid the immigration crackdown\n",
      " \n",
      "Google diversity report: Black women make up only 1.2 percent of its U.S. workforce\n",
      " \n",
      " \n",
      "All the action was on the fringes\n",
      "A new majority against cruelty\n",
      "Where is Ryan Zimmerman? (And other questions about the Nats.)\n",
      "Why we should celebrate high school grads signing up to defend us\n",
      "Roller coaster\n",
      "Why we shouldn’t look to female critics to support women-centric movies\n",
      "That mysterious glass tower on I-270? It spits out used cars. Here’s how.\n",
      "Dear Donor 14659, thank you for your sperm\n",
      "D.J. Fontana, drummer on Elvis Presley’s early hits, dies at 87\n",
      "D.C. primary election 2018: Your guide to who, and what, is on the ballot\n",
      "What does a father most want for his children? James Wood’s novel shows us.\n",
      "Most Americans say it’s too early to judge Singapore summit’s success, poll shows\n",
      "Message at the border: ‘No vacancy’\n",
      "This weekend’s open houses in D.C., Maryland, Virginia\n",
      "Fact-checking ‘Eating Animals’: What the film gets right and wrong\n",
      "Why Washington is one of the worst places to be black and pregnant\n",
      "Two senators want Amazon’s Jeff Bezos to answer for Alexa’s eavesdropping\n",
      "Anne Donovan, Hall of Fame basketball player and coach, dies at 56\n",
      "Afghanistan extends cease-fire with Taliban as fighters celebrate Eid with civilians\n",
      "Digital Products Terms of Sale\n",
      "Mongolia’s president, a former martial-arts champion, wrestles with some major problems\n",
      "Print Products Terms of Sale\n",
      "Privacy Policy\n",
      "5 recipes that will help change your mind about veggie burgers\n"
     ]
    }
   ],
   "source": [
    "for article in washpost.articles:\n",
    "    print(article.title)"
   ]
  },
  {
   "cell_type": "code",
   "execution_count": 7,
   "metadata": {},
   "outputs": [],
   "source": [
    "article = washpost.articles[1]"
   ]
  },
  {
   "cell_type": "code",
   "execution_count": 8,
   "metadata": {},
   "outputs": [],
   "source": [
    "article.download()\n",
    "article.parse()"
   ]
  },
  {
   "cell_type": "code",
   "execution_count": 9,
   "metadata": {},
   "outputs": [
    {
     "name": "stdout",
     "output_type": "stream",
     "text": [
      "Every morning at 6:55, they played a hymn on the radio, and at 7:25, they broadcast a good old march. If someone in the D.C. area lost a pet, they’d announce it on the air. From 1960 to 1992, Frank Harden and Jackson Weaver ran the most popular program in a gentler and more polite Washington.\n",
      "\n",
      "Mr. Harden, who died June 15 at his home in Chevy Chase, Md., while watching a movie with his wife, was the straight man to Weaver in a 32-year morning routine that was as vital to Washington’s identity in that era as the Redskins, the Beltway and the green-and-white awnings on so many D.C. rowhouses. He was 95.\n",
      "\n",
      "His son, Robert Harden, confirmed the death but did not cite a specific cause.\n",
      "\n",
      "Six mornings a week on WMAL (630 AM), using an approach they dubbed “dynamic inaction,” Harden and Weaver reeled off a four-hour roll call of news headlines, weather and traffic reports, school closings, a bit of middle-of-the-road music, some spoofing of the commercials, and visits with a roster of made-up characters, including a nameless lady with a high-pitched voice whom they introduced as being “informed on nothing and has opinions on everything.” She would mangle the language come springtime with blather about the “venereal magnavox” or worry in summer about people getting “heat prostitution.”\n",
      "\n",
      "Their goal was to appeal as broadly as possible to an audience that they believed was more drawn to amiable companionship than to the agitation of polarized politics or the thrill of breaking taboos.\n",
      "\n",
      "“We’re not in the business of alienating people,” Mr. Harden wrote in 1983.\n",
      "\n",
      "\n",
      "\n",
      "Jackson Weaver, left, and Frank Harden worked together beginning in the 1960s. (Vincent A. Finnigan/Planned Photography)\n",
      "\n",
      "As one of their show’s jingles put it, the show existed “to pass the time away and catch the world as it goes by.”\n",
      "\n",
      "Characters from Harden and Weaver’s stable became part of the region’s daily conversation in offices, schools and shops. Rocky Rockmont, a fictional car salesman at the real-life Rockmont Chevrolet, turned into such a household name that the actual salesmen at the dealership donned buttons saying, “Hi, I’m Rocky.”\n",
      "\n",
      "They were more interested in serving listeners than in stirring the pot. On nights when snow was in the forecast, they’d sleep at the station to be sure they’d be on hand for their 6 a.m. sign-on.\n",
      "\n",
      "“The focus today seems to be controversy,” Mr. Harden said in a podcast interview last year. “I think the most controversial thing Harden and Weaver ever said was, ‘Good morning!’ ”\n",
      "\n",
      "After Weaver died in 1992, Mr. Harden continued the morning show with Tim Brant and Andy Parks until 1998.\n",
      "\n",
      "1 of 11 Full Screen Autoplay Close Skip Ad × Notable deaths so far this year View Photos Remembering those who have died in 2018. Caption Remembering those who have died in 2018. Bob Daugherty Buy Photo Wait 1 second to continue.\n",
      "\n",
      "Harden and Weaver’s characters included a pompous and empty-headed U.S. senator; Dr. Lucifer Headcold, the too-nasal conductor of the minimally talented Albino State Teachers’ College Marching and Symphonic Band; and Boscoe Osgood, a roving reporter who somehow never quite found the right location where news was happening — a twist on Wally Ballou, the inept newsman invented by Bob and Ray, the radio comedy duo who inspired a fair amount of Harden and Weaver’s work.\n",
      "\n",
      "To a new generation of radio comics, Harden and Weaver’s approach could seem too quiet and subtle. “They don’t do anything!” complained Don Geronimo, co-host of the raucous “Don and Mike Show,” which pushed the limits of comedy and language on the airwaves from 1985 to 2008.\n",
      "\n",
      "Mr. Harden was the first to concede that he didn’t do edgy shtick. It would never have occurred to him to test his welcome in people’s bedrooms, kitchens and cars by taking political stands or being the slightest bit nasty. “He had his own politics, but nobody ever knew what they were,” his son Robert said Sunday. “He believed the show should be for everybody.”\n",
      "\n",
      "Radio executives had not yet subscribed to the notion that each station should appeal to one thinly sliced demographic group. “Washington had several strata: the international set, the big businesses, the federal workers and the black community,” Mr. Harden told The Washington Post in 1998. “But we could still be broad and invite them all equally.”\n",
      "\n",
      "Harden and Weaver put much of their energy into winning advertisers, which they did by the score, even if — or expressly because — they took considerable liberties with the commercial scripts.\n",
      "\n",
      "Reading a spot for Billy Martin’s Carriage House in Georgetown, Mr. Harden noted on a 1970 show that “they got valet parking at night. You drive up there for dinner, a valet jumps in your car, and that’s the last you see of it. . . . They got six dining rooms to choose from. Just go crazy going from dining room to dining room trying to decide where you want to sit down. Some people miss out on eating entirely that way.”\n",
      "\n",
      "The duo raised millions for Children’s National Medical Center through the years and made countless appearances at charity events and community meetings.\n",
      "\n",
      "The 25th anniversary of “The Harden and Weaver Show” was celebrated with a tribute that drew a full house at the Kennedy Center.\n",
      "\n",
      "When Mr. Harden retired in 1998, WMAL’s president, Tom Bresnahan, said there were few shows left on the air that aimed to reach everyone and avoided controversial topics. “Call it old-fashioned or decent, but we still think there’s an audience for it,” Bresnahan said then. WMAL soon changed its programming to focus on sharply conservative political talk.\n",
      "\n",
      "Mr. Harden, born in Macon, Ga., on Oct. 28, 1922, served in the Army in 1944 and was still in uniform when, freshly discharged, he walked into a radio station in Savannah, asked for a job and got it. The pay was $17.50 a week. After stops in Atlanta and Denver, he was hired at WMAL as an announcer, first on radio and later on TV as well.\n",
      "\n",
      "He introduced programs and read the news, on the radio and at the Trans-Lux movie theater on 14th Street NW, where he provided a live news update between features on the silver screen.\n",
      "\n",
      "He teamed up with Weaver in the late 1950s to do a program of light comedy sketches on the ABC radio network. They moved their show to WMAL-TV and then to the morning radio slot in 1960. By the mid-’60s, they dominated the ratings, regularly drawing a quarter of all radio listeners in a crowded market.\n",
      "\n",
      "“They had an almost telepathic ability to pick up on each other’s thoughts,” Robert Harden said. “They wrote almost nothing in advance. One of them would start something and the other would pick up on it and it would just happen.”\n",
      "\n",
      "Mr. Harden’s first wife, the former LaVerne Lawson, died in 1992 after 23 years of marriage. Survivors include his wife, the former Berit Hagelberg, of Chevy Chase; three children from his first marriage, Robert Harden of Naples, Fla., Daphne Harden of Miami Beach and Geoffrey Harden of New York; two stepchildren, Catherine Falknor of Shepherdsville, W.Va., and Jon-Erik Falknor of Bethesda; a brother; and eight grandchildren.\n"
     ]
    }
   ],
   "source": [
    "print(article.text)"
   ]
  },
  {
   "cell_type": "code",
   "execution_count": 10,
   "metadata": {},
   "outputs": [],
   "source": [
    "import sys, os"
   ]
  },
  {
   "cell_type": "code",
   "execution_count": 14,
   "metadata": {},
   "outputs": [],
   "source": [
    "sys.path.append(os.getenv('HOME') + '/Packages/MITIE/mitielib')"
   ]
  },
  {
   "cell_type": "code",
   "execution_count": 16,
   "metadata": {},
   "outputs": [],
   "source": [
    "words = article.text.split(' ')"
   ]
  },
  {
   "cell_type": "code",
   "execution_count": 18,
   "metadata": {},
   "outputs": [],
   "source": [
    "tokens = mitie.tokenize(article.text)"
   ]
  },
  {
   "cell_type": "code",
   "execution_count": 19,
   "metadata": {},
   "outputs": [],
   "source": [
    "ner = mitie.named_entity_extractor(os.getenv('HOME') + '/Packages/MITIE/MITIE-models/english/ner_model.dat')"
   ]
  },
  {
   "cell_type": "code",
   "execution_count": 20,
   "metadata": {},
   "outputs": [],
   "source": [
    "entities = ner.extract_entities(tokens)"
   ]
  },
  {
   "cell_type": "code",
   "execution_count": 23,
   "metadata": {},
   "outputs": [
    {
     "name": "stdout",
     "output_type": "stream",
     "text": [
      "94\n",
      "[(range(30, 31), 'LOCATION', 0.8180789172015295), (range(48, 50), 'PERSON', 1.1432234344579681), (range(51, 53), 'PERSON', 0.955392130469865), (range(64, 65), 'LOCATION', 0.8901861857583594), (range(66, 68), 'PERSON', 0.8134518653502155), (range(77, 79), 'LOCATION', 0.45462660011900474), (range(80, 81), 'LOCATION', 0.9274335473066541), (range(95, 96), 'PERSON', 1.1466745285694386), (range(106, 107), 'LOCATION', 0.9919255242968098), (range(114, 115), 'ORGANIZATION', 0.5144205951866204), (range(117, 118), 'LOCATION', 0.3562212502116301), (range(134, 136), 'PERSON', 1.5828000198241443), (range(153, 154), 'ORGANIZATION', 0.32051226227497104), (range(164, 165), 'PERSON', 0.1855682508931393), (range(169, 170), 'PERSON', 0.9745646939543853), (range(171, 172), 'PERSON', 1.040379407150331), (range(309, 311), 'PERSON', 0.9083580090616551), (range(314, 316), 'PERSON', 1.0848929368001634), (range(320, 322), 'PERSON', 1.3668545705457467), (range(330, 333), 'PERSON', 0.6504648022581516), (range(366, 367), 'PERSON', 0.6374323115295835), (range(368, 369), 'PERSON', 1.0293653495504955), (range(386, 388), 'LOCATION', 0.29525456895640007), (range(396, 398), 'LOCATION', 0.3280228458830749), (range(421, 423), 'LOCATION', 0.5669981045077068), (range(476, 478), 'PERSON', 0.9778540868386684), (range(493, 494), 'PERSON', 0.6394905920610001), (range(495, 496), 'PERSON', 0.8142169604185773), (range(506, 507), 'PERSON', 1.136806915505059), (range(510, 512), 'PERSON', 0.5270109854306935), (range(517, 519), 'PERSON', 0.9083654492497333), (range(520, 522), 'PERSON', 0.9229237354242843), (range(557, 559), 'PERSON', 1.1555416178885234), (range(567, 568), 'PERSON', 0.8369006399538035), (range(569, 570), 'PERSON', 1.1033195385418963), (range(577, 578), 'LOCATION', 0.9923513905892879), (range(579, 582), 'PERSON', 0.5555371549293499), (range(590, 595), 'ORGANIZATION', 0.6510413699617447), (range(597, 598), 'PERSON', 0.14966020517187126), (range(600, 602), 'PERSON', 0.6185077581960067), (range(622, 624), 'PERSON', 0.7803228022311642), (range(630, 631), 'PERSON', 0.9401549208118924), (range(632, 633), 'PERSON', 1.1636559440985648), (range(644, 645), 'PERSON', 0.6954275925037603), (range(646, 647), 'PERSON', 1.232186974887569), (range(658, 659), 'PERSON', 0.9494219600586602), (range(660, 661), 'PERSON', 1.0972440694410004), (range(679, 681), 'PERSON', 0.9011256100746549), (range(689, 691), 'PERSON', 0.747351398992064), (range(708, 710), 'PERSON', 0.8480100768496533), (range(771, 772), 'PERSON', 1.4218737632263536), (range(808, 809), 'LOCATION', 0.7785401204968967), (range(830, 832), 'PERSON', 1.2676541034776212), (range(834, 836), 'ORGANIZATION', 0.8361574675503302), (range(852, 853), 'PERSON', 0.9505230579259027), (range(854, 855), 'PERSON', 1.153539835417093), (range(891, 893), 'PERSON', 1.094491005215875), (range(894, 896), 'ORGANIZATION', 0.2974600434922061), (range(897, 898), 'LOCATION', 1.0177554715436326), (range(899, 901), 'PERSON', 0.6330808523736131), (range(987, 992), 'ORGANIZATION', 1.1120458747077095), (range(1012, 1016), 'ORGANIZATION', 0.2912323249142979), (range(1029, 1031), 'LOCATION', 0.47299457928634914), (range(1033, 1035), 'PERSON', 0.8153136386748571), (range(1042, 1044), 'PERSON', 1.1651553041003493), (range(1083, 1084), 'PERSON', 0.8898010594317118), (range(1087, 1088), 'ORGANIZATION', 0.3880642078195696), (range(1100, 1102), 'PERSON', 0.670499618310786), (range(1105, 1106), 'LOCATION', 1.3940907297689955), (range(1107, 1108), 'LOCATION', 1.0330598835363958), (range(1117, 1118), 'ORGANIZATION', 0.8458090726022137), (range(1137, 1138), 'LOCATION', 1.4311415140379744), (range(1157, 1158), 'LOCATION', 1.34974695924704), (range(1159, 1160), 'LOCATION', 0.5385033249921626), (range(1165, 1166), 'LOCATION', 0.27949797199043336), (range(1176, 1177), 'ORGANIZATION', 0.48545120133679764), (range(1194, 1195), 'MISC', 0.5587393995300011), (range(1199, 1201), 'LOCATION', 0.6630618609706563), (range(1220, 1221), 'PERSON', 0.9338821576003478), (range(1235, 1236), 'ORGANIZATION', 0.9543752724092154), (range(1294, 1296), 'PERSON', 1.5611624690685308), (range(1327, 1329), 'PERSON', 1.0095798280696815), (range(1335, 1337), 'PERSON', 0.9378950050893985), (range(1354, 1356), 'PERSON', 0.7359562920415937), (range(1367, 1369), 'PERSON', 1.2882862654726657), (range(1370, 1371), 'LOCATION', 1.3826006732483684), (range(1372, 1373), 'LOCATION', 0.9280157956547129), (range(1375, 1377), 'PERSON', 1.315423317972207), (range(1378, 1380), 'LOCATION', 0.585617839643799), (range(1381, 1383), 'PERSON', 1.3474326408798964), (range(1389, 1391), 'PERSON', 0.9115377793018355), (range(1392, 1393), 'LOCATION', 0.2914751085433704), (range(1394, 1395), 'LOCATION', 1.0130205427523231), (range(1398, 1400), 'PERSON', 0.4051598898141975)]\n"
     ]
    }
   ],
   "source": [
    "print(len(entities))\n",
    "print(entities)"
   ]
  },
  {
   "cell_type": "code",
   "execution_count": 27,
   "metadata": {},
   "outputs": [],
   "source": [
    "entity_texts = []\n",
    "for e in entities:\n",
    "    range = e[0]\n",
    "    tag = e[1]\n",
    "    score = e[2]\n",
    "    score_text = \"{:0.3f}\".format(score)\n",
    "    entity_text = \" \".join(tokens[i].decode() for i in range)\n",
    "    entity_texts.append(entity_text)\n",
    "    #print(\"   Score: \" + score_text + \": \" + tag + \": \" + entity_text)"
   ]
  },
  {
   "cell_type": "code",
   "execution_count": 26,
   "metadata": {},
   "outputs": [
    {
     "name": "stderr",
     "output_type": "stream",
     "text": [
      "/usr/lib/python3.5/importlib/_bootstrap.py:222: RuntimeWarning: numpy.dtype size changed, may indicate binary incompatibility. Expected 96, got 88\n",
      "  return f(*args, **kwds)\n",
      "/usr/lib/python3.5/importlib/_bootstrap.py:222: RuntimeWarning: numpy.dtype size changed, may indicate binary incompatibility. Expected 96, got 88\n",
      "  return f(*args, **kwds)\n",
      "/usr/lib/python3.5/importlib/_bootstrap.py:222: RuntimeWarning: numpy.dtype size changed, may indicate binary incompatibility. Expected 96, got 88\n",
      "  return f(*args, **kwds)\n",
      "/usr/lib/python3.5/importlib/_bootstrap.py:222: RuntimeWarning: numpy.dtype size changed, may indicate binary incompatibility. Expected 96, got 88\n",
      "  return f(*args, **kwds)\n"
     ]
    }
   ],
   "source": [
    "from sklearn.feature_extraction.text import TfidfVectorizer"
   ]
  },
  {
   "cell_type": "code",
   "execution_count": 29,
   "metadata": {},
   "outputs": [
    {
     "data": {
      "text/plain": [
       "['D.C.',\n",
       " 'Frank Harden',\n",
       " 'Jackson Weaver',\n",
       " 'Washington',\n",
       " 'Mr Harden',\n",
       " 'Chevy Chase',\n",
       " 'Md',\n",
       " 'Weaver',\n",
       " 'Washington',\n",
       " 'Redskins',\n",
       " 'Beltway',\n",
       " 'Robert Harden',\n",
       " 'WMAL',\n",
       " '“',\n",
       " 'Harden',\n",
       " 'Weaver',\n",
       " 'Mr Harden',\n",
       " 'Jackson Weaver',\n",
       " 'Frank Harden',\n",
       " 'Vincent A. Finnigan/Planned',\n",
       " 'Harden',\n",
       " 'Weaver',\n",
       " 'Rocky Rockmont',\n",
       " 'Rockmont Chevrolet',\n",
       " 'Rocky .',\n",
       " 'Mr Harden',\n",
       " 'Harden',\n",
       " 'Weaver',\n",
       " 'Weaver',\n",
       " 'Mr Harden',\n",
       " 'Tim Brant',\n",
       " 'Andy Parks',\n",
       " 'Bob Daugherty',\n",
       " 'Harden',\n",
       " 'Weaver',\n",
       " 'U.S.',\n",
       " 'Dr Lucifer Headcold',\n",
       " \"Albino State Teachers ' College\",\n",
       " 'Symphonic',\n",
       " 'Boscoe Osgood',\n",
       " 'Wally Ballou',\n",
       " 'Bob',\n",
       " 'Ray',\n",
       " 'Harden',\n",
       " 'Weaver',\n",
       " 'Harden',\n",
       " 'Weaver',\n",
       " 'Don Geronimo',\n",
       " 'Mike Show',\n",
       " 'Mr Harden',\n",
       " 'Robert',\n",
       " 'Washington',\n",
       " 'Mr Harden',\n",
       " 'Washington Post',\n",
       " 'Harden',\n",
       " 'Weaver',\n",
       " 'Billy Martin',\n",
       " 'Carriage House',\n",
       " 'Georgetown',\n",
       " 'Mr Harden',\n",
       " \"Children 's National Medical Center\",\n",
       " 'Harden and Weaver Show',\n",
       " 'Kennedy Center',\n",
       " 'Mr Harden',\n",
       " 'Tom Bresnahan',\n",
       " 'Bresnahan',\n",
       " 'WMAL',\n",
       " 'Mr Harden',\n",
       " 'Macon',\n",
       " 'Ga',\n",
       " 'Army',\n",
       " 'Savannah',\n",
       " 'Atlanta',\n",
       " 'Denver',\n",
       " 'WMAL',\n",
       " 'TV',\n",
       " 'Trans-Lux',\n",
       " 'Street NW',\n",
       " 'Weaver',\n",
       " 'ABC',\n",
       " 'Robert Harden',\n",
       " 'Mr Harden',\n",
       " 'LaVerne Lawson',\n",
       " 'Berit Hagelberg',\n",
       " 'Robert Harden',\n",
       " 'Naples',\n",
       " 'Fla',\n",
       " 'Daphne Harden',\n",
       " 'Miami Beach',\n",
       " 'Geoffrey Harden',\n",
       " 'Catherine Falknor',\n",
       " 'Shepherdsville',\n",
       " 'W.Va',\n",
       " 'Jon-Erik Falknor']"
      ]
     },
     "execution_count": 29,
     "metadata": {},
     "output_type": "execute_result"
    }
   ],
   "source": [
    "tfidf = "
   ]
  },
  {
   "cell_type": "code",
   "execution_count": null,
   "metadata": {},
   "outputs": [],
   "source": []
  }
 ],
 "metadata": {
  "kernelspec": {
   "display_name": "Python 3",
   "language": "python",
   "name": "python3"
  },
  "language_info": {
   "codemirror_mode": {
    "name": "ipython",
    "version": 3
   },
   "file_extension": ".py",
   "mimetype": "text/x-python",
   "name": "python",
   "nbconvert_exporter": "python",
   "pygments_lexer": "ipython3",
   "version": "3.5.2"
  }
 },
 "nbformat": 4,
 "nbformat_minor": 2
}
